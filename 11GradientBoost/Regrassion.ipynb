{
 "cells": [
  {
   "cell_type": "markdown",
   "metadata": {},
   "source": []
  },
  {
   "cell_type": "code",
   "execution_count": 74,
   "metadata": {},
   "outputs": [],
   "source": [
    "import pandas as pd\n",
    "import numpy as np\n",
    "import matplotlib.pyplot as plt\n",
    "import seaborn as sns\n",
    "import warnings\n",
    "\n",
    "warnings.filterwarnings(\"ignore\")\n",
    "\n",
    "%matplotlib inline"
   ]
  },
  {
   "cell_type": "code",
   "execution_count": 75,
   "metadata": {},
   "outputs": [
    {
     "data": {
      "text/html": [
       "<div>\n",
       "<style scoped>\n",
       "    .dataframe tbody tr th:only-of-type {\n",
       "        vertical-align: middle;\n",
       "    }\n",
       "\n",
       "    .dataframe tbody tr th {\n",
       "        vertical-align: top;\n",
       "    }\n",
       "\n",
       "    .dataframe thead th {\n",
       "        text-align: right;\n",
       "    }\n",
       "</style>\n",
       "<table border=\"1\" class=\"dataframe\">\n",
       "  <thead>\n",
       "    <tr style=\"text-align: right;\">\n",
       "      <th></th>\n",
       "      <th>model</th>\n",
       "      <th>vehicle_age</th>\n",
       "      <th>km_driven</th>\n",
       "      <th>seller_type</th>\n",
       "      <th>fuel_type</th>\n",
       "      <th>transmission_type</th>\n",
       "      <th>mileage</th>\n",
       "      <th>engine</th>\n",
       "      <th>max_power</th>\n",
       "      <th>seats</th>\n",
       "      <th>selling_price</th>\n",
       "    </tr>\n",
       "  </thead>\n",
       "  <tbody>\n",
       "    <tr>\n",
       "      <th>0</th>\n",
       "      <td>Alto</td>\n",
       "      <td>9</td>\n",
       "      <td>120000</td>\n",
       "      <td>Individual</td>\n",
       "      <td>Petrol</td>\n",
       "      <td>Manual</td>\n",
       "      <td>19.70</td>\n",
       "      <td>796</td>\n",
       "      <td>46.30</td>\n",
       "      <td>5</td>\n",
       "      <td>120000</td>\n",
       "    </tr>\n",
       "    <tr>\n",
       "      <th>1</th>\n",
       "      <td>Grand</td>\n",
       "      <td>5</td>\n",
       "      <td>20000</td>\n",
       "      <td>Individual</td>\n",
       "      <td>Petrol</td>\n",
       "      <td>Manual</td>\n",
       "      <td>18.90</td>\n",
       "      <td>1197</td>\n",
       "      <td>82.00</td>\n",
       "      <td>5</td>\n",
       "      <td>550000</td>\n",
       "    </tr>\n",
       "    <tr>\n",
       "      <th>2</th>\n",
       "      <td>i20</td>\n",
       "      <td>11</td>\n",
       "      <td>60000</td>\n",
       "      <td>Individual</td>\n",
       "      <td>Petrol</td>\n",
       "      <td>Manual</td>\n",
       "      <td>17.00</td>\n",
       "      <td>1197</td>\n",
       "      <td>80.00</td>\n",
       "      <td>5</td>\n",
       "      <td>215000</td>\n",
       "    </tr>\n",
       "    <tr>\n",
       "      <th>3</th>\n",
       "      <td>Alto</td>\n",
       "      <td>9</td>\n",
       "      <td>37000</td>\n",
       "      <td>Individual</td>\n",
       "      <td>Petrol</td>\n",
       "      <td>Manual</td>\n",
       "      <td>20.92</td>\n",
       "      <td>998</td>\n",
       "      <td>67.10</td>\n",
       "      <td>5</td>\n",
       "      <td>226000</td>\n",
       "    </tr>\n",
       "    <tr>\n",
       "      <th>4</th>\n",
       "      <td>Ecosport</td>\n",
       "      <td>6</td>\n",
       "      <td>30000</td>\n",
       "      <td>Dealer</td>\n",
       "      <td>Diesel</td>\n",
       "      <td>Manual</td>\n",
       "      <td>22.77</td>\n",
       "      <td>1498</td>\n",
       "      <td>98.59</td>\n",
       "      <td>5</td>\n",
       "      <td>570000</td>\n",
       "    </tr>\n",
       "  </tbody>\n",
       "</table>\n",
       "</div>"
      ],
      "text/plain": [
       "      model  vehicle_age  km_driven seller_type fuel_type transmission_type  \\\n",
       "0      Alto            9     120000  Individual    Petrol            Manual   \n",
       "1     Grand            5      20000  Individual    Petrol            Manual   \n",
       "2       i20           11      60000  Individual    Petrol            Manual   \n",
       "3      Alto            9      37000  Individual    Petrol            Manual   \n",
       "4  Ecosport            6      30000      Dealer    Diesel            Manual   \n",
       "\n",
       "   mileage  engine  max_power  seats  selling_price  \n",
       "0    19.70     796      46.30      5         120000  \n",
       "1    18.90    1197      82.00      5         550000  \n",
       "2    17.00    1197      80.00      5         215000  \n",
       "3    20.92     998      67.10      5         226000  \n",
       "4    22.77    1498      98.59      5         570000  "
      ]
     },
     "execution_count": 75,
     "metadata": {},
     "output_type": "execute_result"
    }
   ],
   "source": [
    "df=pd.read_csv('cardekho_cleaned.csv')\n",
    "df.head()"
   ]
  },
  {
   "cell_type": "code",
   "execution_count": 76,
   "metadata": {},
   "outputs": [
    {
     "name": "stdout",
     "output_type": "stream",
     "text": [
      "<class 'pandas.core.frame.DataFrame'>\n",
      "RangeIndex: 15411 entries, 0 to 15410\n",
      "Data columns (total 11 columns):\n",
      " #   Column             Non-Null Count  Dtype  \n",
      "---  ------             --------------  -----  \n",
      " 0   model              15411 non-null  object \n",
      " 1   vehicle_age        15411 non-null  int64  \n",
      " 2   km_driven          15411 non-null  int64  \n",
      " 3   seller_type        15411 non-null  object \n",
      " 4   fuel_type          15411 non-null  object \n",
      " 5   transmission_type  15411 non-null  object \n",
      " 6   mileage            15411 non-null  float64\n",
      " 7   engine             15411 non-null  int64  \n",
      " 8   max_power          15411 non-null  float64\n",
      " 9   seats              15411 non-null  int64  \n",
      " 10  selling_price      15411 non-null  int64  \n",
      "dtypes: float64(2), int64(5), object(4)\n",
      "memory usage: 1.3+ MB\n"
     ]
    }
   ],
   "source": [
    "df.info()"
   ]
  },
  {
   "cell_type": "markdown",
   "metadata": {},
   "source": [
    "#### Train and Test split"
   ]
  },
  {
   "cell_type": "code",
   "execution_count": 77,
   "metadata": {},
   "outputs": [],
   "source": [
    "X=df.drop(columns=[\"selling_price\"],axis=1)\n",
    "Y=df['selling_price']"
   ]
  },
  {
   "cell_type": "code",
   "execution_count": 78,
   "metadata": {},
   "outputs": [],
   "source": [
    "from sklearn.model_selection  import train_test_split\n",
    "X_train,X_test,Y_train,Y_test=train_test_split(X,Y,test_size=.3,random_state=42)"
   ]
  },
  {
   "cell_type": "code",
   "execution_count": 79,
   "metadata": {},
   "outputs": [
    {
     "data": {
      "text/plain": [
       "['model', 'seller_type', 'fuel_type', 'transmission_type']"
      ]
     },
     "execution_count": 79,
     "metadata": {},
     "output_type": "execute_result"
    }
   ],
   "source": [
    "classification_features=[feature for feature in X.columns if(X[feature].dtype == 'object')]\n",
    "classification_features"
   ]
  },
  {
   "cell_type": "code",
   "execution_count": 80,
   "metadata": {},
   "outputs": [
    {
     "data": {
      "text/plain": [
       "['vehicle_age', 'km_driven', 'mileage', 'engine', 'max_power', 'seats']"
      ]
     },
     "execution_count": 80,
     "metadata": {},
     "output_type": "execute_result"
    }
   ],
   "source": [
    "numerical_features=[feature for feature in X.columns if(X[feature].dtype != 'object')]\n",
    "numerical_features"
   ]
  },
  {
   "cell_type": "markdown",
   "metadata": {},
   "source": [
    "#### LabourEncoding"
   ]
  },
  {
   "cell_type": "code",
   "execution_count": 81,
   "metadata": {},
   "outputs": [],
   "source": [
    "from sklearn.preprocessing import LabelEncoder\n",
    "for feature in classification_features:\n",
    "\tlabour=LabelEncoder()\n",
    "\tlabour.fit(X[feature])\n",
    "\tX_train[feature]=labour.transform(X_train[feature])\n",
    "\tX_test[feature]=labour.transform(X_test[feature])"
   ]
  },
  {
   "cell_type": "markdown",
   "metadata": {},
   "source": [
    "#### Apply Standardization"
   ]
  },
  {
   "cell_type": "code",
   "execution_count": 82,
   "metadata": {},
   "outputs": [],
   "source": [
    "from sklearn.preprocessing import StandardScaler\n",
    "for feature in classification_features:\n",
    "\tscaler=StandardScaler()\n",
    "\tscaler.fit(X_train[[feature]])\n",
    "\tX_train[feature]=scaler.transform(X_train[[feature]])\n",
    "\tX_test[feature]=scaler.transform(X_test[[feature]])"
   ]
  },
  {
   "cell_type": "code",
   "execution_count": 83,
   "metadata": {},
   "outputs": [],
   "source": [
    "from sklearn.ensemble import RandomForestRegressor\n",
    "from sklearn.linear_model import LinearRegression, Ridge,Lasso\n",
    "from sklearn.neighbors import KNeighborsRegressor\n",
    "from sklearn.tree import DecisionTreeRegressor\n",
    "from sklearn.ensemble import AdaBoostRegressor\n",
    "from sklearn.ensemble import GradientBoostingRegressor\n",
    "from sklearn.metrics import r2_score, mean_absolute_error, mean_squared_error"
   ]
  },
  {
   "cell_type": "code",
   "execution_count": 84,
   "metadata": {},
   "outputs": [],
   "source": [
    "# Evaluate the model\n",
    "def evaluate_model(true, predicted):\n",
    "    mae = mean_absolute_error(true, predicted)\n",
    "    mse = mean_squared_error(true, predicted)\n",
    "    rmse = np.sqrt(mean_squared_error(true, predicted))\n",
    "    r2_square = r2_score(true, predicted)\n",
    "    return mae, rmse, r2_square"
   ]
  },
  {
   "cell_type": "code",
   "execution_count": 85,
   "metadata": {},
   "outputs": [],
   "source": [
    "models = {\n",
    "    \"Linear Regression\": LinearRegression(),\n",
    "    \"Lasso\": Lasso(),\n",
    "    \"Ridge\": Ridge(),\n",
    "    \"K-Neighbors Regressor\": KNeighborsRegressor(),\n",
    "    \"Decision Tree\": DecisionTreeRegressor(),\n",
    "    \"Random Forest Regressor\": RandomForestRegressor(),\n",
    "    \"Adaboost Regressor\":AdaBoostRegressor(),\n",
    "\t\"GradientBoost Regressor\":GradientBoostingRegressor()\n",
    "}"
   ]
  },
  {
   "cell_type": "code",
   "execution_count": 86,
   "metadata": {},
   "outputs": [
    {
     "name": "stdout",
     "output_type": "stream",
     "text": [
      "Linear Regression\n",
      "Model performance for Training set\n",
      "- Root Mean Squared Error: 560327.6024971509\n",
      "- Mean Absolute Error: 268807.6923638746\n",
      "- R2 Score: 0.6169165412402811\n",
      "----------------------------------\n",
      "Model performance for Test set\n",
      "- Root Mean Squared Error: 508110.8542847031\n",
      "- Mean Absolute Error: 281212.38836442895\n",
      "- R2 Score: 0.6567089015518186\n",
      "===================================\n",
      "\n",
      "\n",
      "Lasso\n",
      "Model performance for Training set\n",
      "- Root Mean Squared Error: 560327.6025047041\n",
      "- Mean Absolute Error: 268807.6891540316\n",
      "- R2 Score: 0.6169165412299531\n",
      "----------------------------------\n",
      "Model performance for Test set\n",
      "- Root Mean Squared Error: 508110.88257054705\n",
      "- Mean Absolute Error: 281212.31382857997\n",
      "- R2 Score: 0.6567088633307154\n",
      "===================================\n",
      "\n",
      "\n",
      "Ridge\n",
      "Model performance for Training set\n",
      "- Root Mean Squared Error: 560327.6025189749\n",
      "- Mean Absolute Error: 268807.30871053383\n",
      "- R2 Score: 0.6169165412104399\n",
      "----------------------------------\n",
      "Model performance for Test set\n",
      "- Root Mean Squared Error: 508111.1745126955\n",
      "- Mean Absolute Error: 281211.885236225\n",
      "- R2 Score: 0.6567084688452429\n",
      "===================================\n",
      "\n",
      "\n",
      "K-Neighbors Regressor\n",
      "Model performance for Training set\n",
      "- Root Mean Squared Error: 497546.35809323355\n",
      "- Mean Absolute Error: 194277.01863354037\n",
      "- R2 Score: 0.6979516488033635\n",
      "----------------------------------\n",
      "Model performance for Test set\n",
      "- Root Mean Squared Error: 529498.029962261\n",
      "- Mean Absolute Error: 254168.32288062284\n",
      "- R2 Score: 0.6272013811632069\n",
      "===================================\n",
      "\n",
      "\n",
      "Decision Tree\n",
      "Model performance for Training set\n",
      "- Root Mean Squared Error: 20329.743604291307\n",
      "- Mean Absolute Error: 4728.889712926054\n",
      "- R2 Score: 0.9994957183457035\n",
      "----------------------------------\n",
      "Model performance for Test set\n",
      "- Root Mean Squared Error: 369756.35521239456\n",
      "- Mean Absolute Error: 132065.92236159169\n",
      "- R2 Score: 0.8182071108056831\n",
      "===================================\n",
      "\n",
      "\n",
      "Random Forest Regressor\n",
      "Model performance for Training set\n",
      "- Root Mean Squared Error: 153570.34626574215\n",
      "- Mean Absolute Error: 39972.19534610296\n",
      "- R2 Score: 0.9712244195344157\n",
      "----------------------------------\n",
      "Model performance for Test set\n",
      "- Root Mean Squared Error: 243268.94949272493\n",
      "- Mean Absolute Error: 105472.12409687582\n",
      "- R2 Score: 0.9213101066128744\n",
      "===================================\n",
      "\n",
      "\n",
      "Adaboost Regressor\n",
      "Model performance for Training set\n",
      "- Root Mean Squared Error: 455872.604173186\n",
      "- Mean Absolute Error: 365004.894399865\n",
      "- R2 Score: 0.7464308856038688\n",
      "----------------------------------\n",
      "Model performance for Test set\n",
      "- Root Mean Squared Error: 499236.52357277856\n",
      "- Mean Absolute Error: 385019.0098800553\n",
      "- R2 Score: 0.6685955786951758\n",
      "===================================\n",
      "\n",
      "\n",
      "GradientBoost Regressor\n",
      "Model performance for Training set\n",
      "- Root Mean Squared Error: 198209.563640035\n",
      "- Mean Absolute Error: 110461.23112401001\n",
      "- R2 Score: 0.9520643548370346\n",
      "----------------------------------\n",
      "Model performance for Test set\n",
      "- Root Mean Squared Error: 281481.2881837704\n",
      "- Mean Absolute Error: 129689.65241067659\n",
      "- R2 Score: 0.8946475457502885\n",
      "===================================\n",
      "\n",
      "\n"
     ]
    }
   ],
   "source": [
    "for model_name,model in models.items():\n",
    "    model.fit(X_train, Y_train) \n",
    "\n",
    "    # Make predictions\n",
    "    y_train_pred = model.predict(X_train)\n",
    "    y_test_pred = model.predict(X_test)\n",
    "    \n",
    "    # Evaluate Train and Test dataset\n",
    "    model_train_mae , model_train_rmse, model_train_r2 = evaluate_model(Y_train, y_train_pred)\n",
    "\n",
    "    model_test_mae , model_test_rmse, model_test_r2 = evaluate_model(Y_test, y_test_pred)\n",
    "\n",
    "    \n",
    "    print(model_name)\n",
    "    \n",
    "    print(f'Model performance for Training set')\n",
    "    print(f\"- Root Mean Squared Error: {model_train_rmse}\")\n",
    "    print(f\"- Mean Absolute Error: {model_train_mae}\")\n",
    "    print(f\"- R2 Score: {model_train_r2}\")\n",
    "\n",
    "    print('----------------------------------')\n",
    "    \n",
    "    print(f'Model performance for Test set')\n",
    "    print(f\"- Root Mean Squared Error: {model_test_rmse}\")\n",
    "    print(f\"- Mean Absolute Error: {model_test_mae}\")\n",
    "    print(f\"- R2 Score: {model_test_r2}\")\n",
    "    \n",
    "    print('='*35)\n",
    "    print('\\n')"
   ]
  },
  {
   "cell_type": "code",
   "execution_count": null,
   "metadata": {},
   "outputs": [],
   "source": [
    "GradientBoostingRegressor()"
   ]
  },
  {
   "cell_type": "code",
   "execution_count": 92,
   "metadata": {},
   "outputs": [],
   "source": [
    "rf_params = {\"max_depth\": [5, 8, 15, None, 10],\n",
    "             \"max_features\": [5, 7, \"auto\", 8],\n",
    "             \"min_samples_split\": [2, 8, 15, 20],\n",
    "             \"n_estimators\": [100, 200, 500, 1000]}\n",
    "\n",
    "adaboost_params={\n",
    "                \"n_estimators\":[10,50,100,150],\n",
    "\t\t\t\t\"learning_rate\": [1.0,2.0,1.5,2.5],\n",
    "\t\t\t\t\"loss\":['linear', 'square', 'exponential']\n",
    "                }\n",
    "\n",
    "gradientboost_params={\n",
    "\t\"n_estimators\":[50,60,70,80,90],\n",
    "\t\"loss\":['squared_error', 'absolute_error', 'huber', 'quantile'],\n",
    "\t\"criterion\":['friedman_mse','squared_error','mse'],\n",
    "\t\"min_samples_split\": [2, 8, 15, 20],\n",
    "\t\"max_depth\": [5, 8, 15, None, 10]\n",
    "}"
   ]
  },
  {
   "cell_type": "code",
   "execution_count": 93,
   "metadata": {},
   "outputs": [],
   "source": [
    "randomcv_models=[\n",
    "\t(\"Random Forest Regressor\", RandomForestRegressor(),rf_params),\n",
    "\t(\"Adaboost Regressor\",AdaBoostRegressor(),adaboost_params),\n",
    "\t(\"GradientBoost Regressor\",GradientBoostingRegressor(),gradientboost_params)\n",
    "]"
   ]
  },
  {
   "cell_type": "code",
   "execution_count": 94,
   "metadata": {},
   "outputs": [
    {
     "name": "stdout",
     "output_type": "stream",
     "text": [
      "---------------- Best Params for Random Forest Regressor -------------------\n",
      "{'n_estimators': 500, 'min_samples_split': 2, 'max_features': 8, 'max_depth': None}\n",
      "---------------- Best Params for Adaboost Regressor -------------------\n",
      "{'n_estimators': 10, 'loss': 'linear', 'learning_rate': 1.0}\n",
      "---------------- Best Params for GradientBoost Regressor -------------------\n",
      "{'n_estimators': 60, 'min_samples_split': 2, 'max_depth': 15, 'loss': 'huber', 'criterion': 'squared_error'}\n"
     ]
    }
   ],
   "source": [
    "from sklearn.model_selection import RandomizedSearchCV\n",
    "\n",
    "models_best_params={}\n",
    "for name,model,params in randomcv_models:\n",
    "\trandom=RandomizedSearchCV(estimator=model,param_distributions=params,cv=5)\n",
    "\n",
    "\trandom.fit(X_train,Y_train)\n",
    "\tmodels_best_params[name]=random.best_params_\n",
    "\n",
    "for model_name,best_params in models_best_params.items():\n",
    "\tprint(f\"---------------- Best Params for {model_name} -------------------\")\n",
    "\tprint(best_params)"
   ]
  },
  {
   "cell_type": "code",
   "execution_count": 95,
   "metadata": {},
   "outputs": [],
   "source": [
    "models = {\n",
    "    \"Random Forest Regressor\": RandomForestRegressor(n_estimators=500,min_samples_split=2,max_features=8,max_depth=None),\n",
    "\t\"Adaboost Regressor\":AdaBoostRegressor(n_estimators=10,loss=\"linear\",learning_rate=1.0),\n",
    "\t\"GradientBoost Regressor\":GradientBoostingRegressor(n_estimators=60,min_samples_split=2,max_depth=15,loss='huber',criterion='squared_error')\n",
    "}"
   ]
  },
  {
   "cell_type": "code",
   "execution_count": 96,
   "metadata": {},
   "outputs": [
    {
     "name": "stdout",
     "output_type": "stream",
     "text": [
      "Random Forest Regressor\n",
      "Model performance for Training set\n",
      "- Root Mean Squared Error: 133488.57214106972\n",
      "- Mean Absolute Error: 39208.057164815866\n",
      "- R2 Score: 0.9782580976247836\n",
      "----------------------------------\n",
      "Model performance for Test set\n",
      "- Root Mean Squared Error: 239383.42027884687\n",
      "- Mean Absolute Error: 103773.35065645019\n",
      "- R2 Score: 0.9238037263051183\n",
      "===================================\n",
      "\n",
      "\n",
      "Adaboost Regressor\n",
      "Model performance for Training set\n",
      "- Root Mean Squared Error: 356145.27464193327\n",
      "- Mean Absolute Error: 235952.68095509434\n",
      "- R2 Score: 0.8452382118590873\n",
      "----------------------------------\n",
      "Model performance for Test set\n",
      "- Root Mean Squared Error: 408879.99822140037\n",
      "- Mean Absolute Error: 255952.1830276341\n",
      "- R2 Score: 0.7777010918741849\n",
      "===================================\n",
      "\n",
      "\n",
      "GradientBoost Regressor\n",
      "Model performance for Training set\n",
      "- Root Mean Squared Error: 76266.14697286449\n",
      "- Mean Absolute Error: 12754.052941459518\n",
      "- R2 Score: 0.992903029857706\n",
      "----------------------------------\n",
      "Model performance for Test set\n",
      "- Root Mean Squared Error: 289522.259818489\n",
      "- Mean Absolute Error: 113066.86081063893\n",
      "- R2 Score: 0.8885424436082672\n",
      "===================================\n",
      "\n",
      "\n"
     ]
    }
   ],
   "source": [
    "for model_name,model in models.items():\n",
    "    model.fit(X_train, Y_train) \n",
    "\n",
    "    # Make predictions\n",
    "    y_train_pred = model.predict(X_train)\n",
    "    y_test_pred = model.predict(X_test)\n",
    "    \n",
    "    # Evaluate Train and Test dataset\n",
    "    model_train_mae , model_train_rmse, model_train_r2 = evaluate_model(Y_train, y_train_pred)\n",
    "\n",
    "    model_test_mae , model_test_rmse, model_test_r2 = evaluate_model(Y_test, y_test_pred)\n",
    "\n",
    "    \n",
    "    print(model_name)\n",
    "    \n",
    "    print(f'Model performance for Training set')\n",
    "    print(f\"- Root Mean Squared Error: {model_train_rmse}\")\n",
    "    print(f\"- Mean Absolute Error: {model_train_mae}\")\n",
    "    print(f\"- R2 Score: {model_train_r2}\")\n",
    "\n",
    "    print('----------------------------------')\n",
    "    \n",
    "    print(f'Model performance for Test set')\n",
    "    print(f\"- Root Mean Squared Error: {model_test_rmse}\")\n",
    "    print(f\"- Mean Absolute Error: {model_test_mae}\")\n",
    "    print(f\"- R2 Score: {model_test_r2}\")\n",
    "    \n",
    "    print('='*35)\n",
    "    print('\\n')"
   ]
  },
  {
   "cell_type": "code",
   "execution_count": null,
   "metadata": {},
   "outputs": [],
   "source": []
  },
  {
   "cell_type": "code",
   "execution_count": null,
   "metadata": {},
   "outputs": [],
   "source": []
  },
  {
   "cell_type": "code",
   "execution_count": null,
   "metadata": {},
   "outputs": [],
   "source": []
  }
 ],
 "metadata": {
  "kernelspec": {
   "display_name": "py312",
   "language": "python",
   "name": "python3"
  },
  "language_info": {
   "codemirror_mode": {
    "name": "ipython",
    "version": 3
   },
   "file_extension": ".py",
   "mimetype": "text/x-python",
   "name": "python",
   "nbconvert_exporter": "python",
   "pygments_lexer": "ipython3",
   "version": "3.12.5"
  }
 },
 "nbformat": 4,
 "nbformat_minor": 2
}
